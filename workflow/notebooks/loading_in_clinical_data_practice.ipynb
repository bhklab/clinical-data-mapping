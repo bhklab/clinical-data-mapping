{
 "cells": [
  {
   "cell_type": "markdown",
   "id": "845dfea8",
   "metadata": {},
   "source": [
    "NSCLC-Radiogenomics .csv  "
   ]
  },
  {
   "cell_type": "code",
   "execution_count": null,
   "id": "51d9a549",
   "metadata": {},
   "outputs": [],
   "source": [
    "import pandas as pd\n",
    "df = pd.read_csv('C:/Users/sumay/Downloads/NSCLC.csv')\n",
    "\n",
    "# Get a list of the variable/column names from the clinical dataset\n",
    "column_names = df.columns.tolist()\n",
    "print(\"Column names:\")\n",
    "for col in column_names:\n",
    "    print(col)\n"
   ]
  },
  {
   "cell_type": "markdown",
   "id": "eb948043",
   "metadata": {},
   "source": [
    "TCGA-LIHC.tsv"
   ]
  },
  {
   "cell_type": "code",
   "execution_count": null,
   "id": "cf267b5b",
   "metadata": {},
   "outputs": [],
   "source": [
    "import pandas as pd\n",
    "df = pd.read_csv('C:/Users/sumay/Downloads/TCGA-LIHC.tsv', sep='\\t')\n",
    "\n",
    "# Get a list of the variable/column names from the  dataset\n",
    "column_names = df.columns.tolist()\n",
    "print(\"Column names:\")\n",
    "for col2 in column_names:\n",
    "    print(col2)\n",
    "\n"
   ]
  },
  {
   "cell_type": "markdown",
   "id": "a1124750",
   "metadata": {},
   "source": [
    "TCGA-LIHC.json"
   ]
  },
  {
   "cell_type": "code",
   "execution_count": null,
   "id": "c5453e2b",
   "metadata": {},
   "outputs": [],
   "source": [
    "import pandas as pd  # Import pandas for data manipulation\n",
    "# Read the JSON file containing clinical data\n",
    "# The file contains nested fields that need to be expanded\n",
    "\n",
    "df = pd.read_json('C:/Users/sumay/Downloads/TCGA-LIHC-small.json')\n",
    "\n",
    "# Explode the family_histories list so each entry becomes its own row\n",
    "exploded = df.explode('family_histories')  # Each family_histories entry becomes a separate row\n",
    "\n",
    "# Keep only rows where family_histories is a dictionary (not missing or malformed)\n",
    "exploded = exploded[exploded['family_histories'].apply(lambda x: isinstance(x, dict))]\n",
    "\n",
    "# Convert the dictionaries in family_histories to columns\n",
    "family_histories_df = exploded['family_histories'].apply(pd.Series)  # Expand dict into columns\n",
    "\n",
    "# Join with the original DataFrame's index or IDs\n",
    "result = pd.concat([exploded.drop(columns=['family_histories']), family_histories_df], axis=1)  # Merge expanded columns\n",
    "\n",
    "# Print expanded family_histories columns \n",
    "print(\"Family histories columns:\")\n",
    "for fam_col in family_histories_df.columns:\n",
    "    print(fam_col)\n",
    "print(\"End of family histories columns\\n\")\n",
    "\n",
    "# Expand the nested 'demographic' column and print its columns \n",
    "# This column contains a dictionary for each patient\n",
    "# We expand it to see all subfields\n",
    "\n",
    "demographic_df = df['demographic'].apply(pd.Series)\n",
    "print(\"Demographic columns:\")\n",
    "for dem_col in demographic_df.columns:\n",
    "    print(dem_col)\n",
    "print(\"End of demographic columns\\n\")\n",
    "\n",
    "# Expand the nested 'project' column and print its columns \n",
    "if 'project' in df.columns:\n",
    "    project_df = df['project'].apply(pd.Series)  # Expand project dict\n",
    "    print(\"Project columns:\")\n",
    "    for proj_col in project_df.columns:\n",
    "        print(proj_col)\n",
    "    print(\"End of project columns\\n\")\n",
    "else:\n",
    "    project_df = None  # If not present, set to None\n",
    "\n",
    "# Expand the nested 'diagnoses' column and print its columns\n",
    "if 'diagnoses' in df.columns:\n",
    "    # If diagnoses is a list of dicts, explode and expand\n",
    "    if df['diagnoses'].apply(lambda x: isinstance(x, list)).any():\n",
    "        diagnoses_exploded = df.explode('diagnoses')  # Each diagnosis becomes a row\n",
    "        diagnoses_exploded = diagnoses_exploded[diagnoses_exploded['diagnoses'].apply(lambda x: isinstance(x, dict))]\n",
    "        diagnoses_df = diagnoses_exploded['diagnoses'].apply(pd.Series)  # Expand dict into columns\n",
    "    else:\n",
    "        diagnoses_df = df['diagnoses'].apply(pd.Series)  # Expand single dict\n",
    "    print(\"Diagnoses columns:\")\n",
    "    for diag_col in diagnoses_df.columns:\n",
    "        print(diag_col)\n",
    "    print(\"End of diagnoses columns\\n\")\n",
    "else:\n",
    "    diagnoses_df = None  # If not present, set to None\n",
    "\n",
    "# Print other columns that do not need to be expanded\n",
    "skip_cols = ['family_histories', 'demographic', 'project', 'diagnoses', 'follow_ups']  # Columns to skip\n",
    "# List columns that are not nested\n",
    "# These are simple fields like patient_id, etc.\n",
    "display_columns = [col3 for col3 in df.columns if col3 not in skip_cols]\n",
    "if display_columns:\n",
    "    print(\"Other columns:\")\n",
    "    for col3 in display_columns:\n",
    "        print(col3)\n",
    "    print(\"End of other columns\")"
   ]
  },
  {
   "cell_type": "markdown",
   "id": "cd7181a0",
   "metadata": {},
   "source": [
    "Saving .XLSX File"
   ]
  },
  {
   "cell_type": "code",
   "execution_count": null,
   "id": "ff6304d5",
   "metadata": {},
   "outputs": [
    {
     "name": "stdout",
     "output_type": "stream",
     "text": [
      "Excel file with all clinical columns saved to: C:/Users/sumay/Downloads/all_clinical_columns.xlsx\n"
     ]
    }
   ],
   "source": [
    "import pandas as pd  # Import pandas for data manipulation\n",
    "from pandas import ExcelWriter  # Import ExcelWriter to save DataFrames to Excel\n",
    "\n",
    "# --- NSCLC CSV ---\n",
    "df_csv = pd.read_csv('C:/Users/sumay/Downloads/NSCLC.csv')  # Load CSV file\n",
    "columns_csv = pd.DataFrame({'Column Name': df_csv.columns.tolist()})  # Create DataFrame of column names\n",
    "\n",
    "# --- TCGA-LIHC TSV ---\n",
    "df_tsv = pd.read_csv('C:/Users/sumay/Downloads/TCGA-LIHC.tsv', sep='\\t')  # Load TSV file\n",
    "columns_tsv = pd.DataFrame({'Column Name': df_tsv.columns.tolist()})  # Create DataFrame of column names\n",
    "\n",
    "# --- TCGA-LIHC JSON ---\n",
    "df_json = pd.read_json('C:/Users/sumay/Downloads/TCGA-LIHC-small.json')  # Load JSON file\n",
    "\n",
    "# Flatten nested columns for JSON using the same logic as your printout cell\n",
    "json_columns = []  # List to store all expanded column names\n",
    "\n",
    "# Expand family_histories\n",
    "if 'family_histories' in df_json.columns:\n",
    "    exploded = df_json.explode('family_histories')  # Each family_histories entry becomes a row\n",
    "    exploded = exploded[exploded['family_histories'].apply(lambda x: isinstance(x, dict))]  # Keep only dicts\n",
    "    family_histories_df = exploded['family_histories'].apply(pd.Series)  # Expand dict into columns\n",
    "    json_columns += [f\"family_histories.{col}\" for col in family_histories_df.columns]  # Add expanded columns\n",
    "\n",
    "# Expand demographic\n",
    "if 'demographic' in df_json.columns:\n",
    "    demographic_df = df_json['demographic'].apply(pd.Series)  # Expand demographic dict\n",
    "    json_columns += [f\"demographic.{col}\" for col in demographic_df.columns]\n",
    "\n",
    "# Expand project\n",
    "if 'project' in df_json.columns:\n",
    "    project_df = df_json['project'].apply(pd.Series)  # Expand project dict\n",
    "    json_columns += [f\"project.{col}\" for col in project_df.columns]\n",
    "\n",
    "# Expand diagnoses\n",
    "if 'diagnoses' in df_json.columns:\n",
    "    if df_json['diagnoses'].apply(lambda x: isinstance(x, list)).any():\n",
    "        diagnoses_exploded = df_json.explode('diagnoses')  # Each diagnosis becomes a row\n",
    "        diagnoses_exploded = diagnoses_exploded[diagnoses_exploded['diagnoses'].apply(lambda x: isinstance(x, dict))]  # Keep only dicts\n",
    "        diagnoses_df = diagnoses_exploded['diagnoses'].apply(pd.Series)  # Expand dict into columns\n",
    "    else:\n",
    "        diagnoses_df = df_json['diagnoses'].apply(pd.Series)  # Expand single dict\n",
    "    json_columns += [f\"diagnoses.{col}\" for col in diagnoses_df.columns]\n",
    "\n",
    "# Add other columns (not nested)\n",
    "skip_cols = ['family_histories', 'demographic', 'project', 'diagnoses', 'follow_ups']  # Columns to skip\n",
    "other_cols = [col for col in df_json.columns if col not in skip_cols]  # Simple columns\n",
    "json_columns += other_cols  # Add simple columns\n",
    "\n",
    "columns_json = pd.DataFrame({'Column Name': json_columns})  # Create DataFrame of all JSON columns\n",
    "\n",
    "# --- Save to Excel ---\n",
    "output_path = 'C:/Users/sumay/Downloads/all_clinical_columns.xlsx'  # Output file path\n",
    "with ExcelWriter(output_path) as writer:\n",
    "    columns_csv.to_excel(writer, sheet_name='NSCLC_CSV', index=False)  # Save CSV columns\n",
    "    columns_tsv.to_excel(writer, sheet_name='TCGA_LIHC_TSV', index=False)  # Save TSV columns\n",
    "    columns_json.to_excel(writer, sheet_name='TCGA_LIHC_JSON', index=False)  # Save JSON columns\n",
    "print(f\"Excel file with all clinical columns saved to: {output_path}\")  # Confirm save"
   ]
  }
 ],
 "metadata": {
  "kernelspec": {
   "display_name": "default",
   "language": "python",
   "name": "python3"
  },
  "language_info": {
   "codemirror_mode": {
    "name": "ipython",
    "version": 3
   },
   "file_extension": ".py",
   "mimetype": "text/x-python",
   "name": "python",
   "nbconvert_exporter": "python",
   "pygments_lexer": "ipython3",
   "version": "3.13.5"
  }
 },
 "nbformat": 4,
 "nbformat_minor": 5
}
